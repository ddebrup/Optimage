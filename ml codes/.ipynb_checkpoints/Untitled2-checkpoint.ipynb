{
 "cells": [
  {
   "cell_type": "code",
   "execution_count": 127,
   "metadata": {},
   "outputs": [],
   "source": [
    "import matplotlib.pyplot as plt\n",
    "import numpy as np\n",
    "import os\n",
    "import sys"
   ]
  },
  {
   "cell_type": "code",
   "execution_count": 77,
   "metadata": {},
   "outputs": [],
   "source": [
    "from matplotlib.image import imread"
   ]
  },
  {
   "cell_type": "code",
   "execution_count": 78,
   "metadata": {},
   "outputs": [],
   "source": [
    "#path of image required\n",
    "if len(sys.argv[1]) == 2:\n",
    "    path = sys.argv[1]\n",
    "    out = sys.argv[2]\n",
    "else:\n",
    "    print('Enter appropriate number of arguments')\n",
    "matimg = imread(path)"
   ]
  },
  {
   "cell_type": "code",
   "execution_count": 51,
   "metadata": {},
   "outputs": [],
   "source": [
    "import numpy as np"
   ]
  },
  {
   "cell_type": "code",
   "execution_count": 81,
   "metadata": {},
   "outputs": [],
   "source": [
    "#taking transpose first to select color channel\n",
    "img_t = np.transpose(matimg)"
   ]
  },
  {
   "cell_type": "code",
   "execution_count": 82,
   "metadata": {},
   "outputs": [
    {
     "data": {
      "text/plain": [
       "(2848, 4272)"
      ]
     },
     "execution_count": 82,
     "metadata": {},
     "output_type": "execute_result"
    }
   ],
   "source": [
    "img_t[0].shape"
   ]
  },
  {
   "cell_type": "code",
   "execution_count": 17,
   "metadata": {},
   "outputs": [],
   "source": [
    "from sklearn.decomposition import PCA\n",
    "from sklearn.preprocessing import MinMaxScaler"
   ]
  },
  {
   "cell_type": "code",
   "execution_count": 83,
   "metadata": {},
   "outputs": [],
   "source": [
    "#applying pca on matrix of each color channel\n",
    "res = []\n",
    "cum_var = []\n",
    "\n",
    "for channel in range(3):\n",
    "    color = img_t[channel]\n",
    "    \n",
    "    #pca\n",
    "    pca = PCA(random_state = 0)\n",
    "    color_pca = pca.fit_transform(color)\n",
    "    \n",
    "    pca_dict = {\n",
    "        \"Projection\": color_pca,\n",
    "        \"Components\": pca.components_,\n",
    "        \"Mean\": pca.mean_\n",
    "    }\n",
    "    \n",
    "    res.append(pca_dict)\n",
    "    \n",
    "    cum_var.append(np.cumsum(pca.explained_variance_ratio_))"
   ]
  },
  {
   "cell_type": "code",
   "execution_count": 130,
   "metadata": {},
   "outputs": [
    {
     "name": "stdout",
     "output_type": "stream",
     "text": [
      "47\n",
      "42\n",
      "42\n"
     ]
    }
   ],
   "source": [
    "#showing number of components for each channel which achieves 95% co-variance\n",
    "print(np.argmax(cum_var[0]>0.95))\n",
    "print(np.argmax(cum_var[1]>0.95))\n",
    "print(np.argmax(cum_var[2]>0.95))"
   ]
  },
  {
   "cell_type": "code",
   "execution_count": 97,
   "metadata": {},
   "outputs": [],
   "source": [
    "#choosing no of components (here it is taken 70, we can make it a user choice)\n",
    "temp_res = []\n",
    "for channel in range(3):\n",
    "    color_res = res[channel]\n",
    "    pca_color = color_res['Projection'][:,:70]\n",
    "    pca_comp = color_res['Components'][:70,:]\n",
    "    pca_mean = color_res['Mean']\n",
    "    compression_color = np.dot(pca_color, pca_comp) + pca_mean\n",
    "    temp_res.append(compression_color)\n",
    "image_comp = np.transpose(temp_res)"
   ]
  },
  {
   "cell_type": "code",
   "execution_count": 112,
   "metadata": {},
   "outputs": [],
   "source": [
    "#correcting invalid values\n",
    "image_comp[image_comp>255]=255\n",
    "image_comp[image_comp<0]=0"
   ]
  },
  {
   "cell_type": "code",
   "execution_count": 123,
   "metadata": {},
   "outputs": [],
   "source": [
    "#size comparison code\n",
    "from PIL import Image\n",
    "from io import BytesIO\n",
    "def imageByteSize(img):\n",
    "    img_file = BytesIO()\n",
    "    image = Image.fromarray(np.uint8(img))\n",
    "    image.save(img_file, 'jpeg')\n",
    "    return img_file.tell()/1024"
   ]
  },
  {
   "cell_type": "code",
   "execution_count": 124,
   "metadata": {},
   "outputs": [
    {
     "data": {
      "text/plain": [
       "933.677734375"
      ]
     },
     "execution_count": 124,
     "metadata": {},
     "output_type": "execute_result"
    }
   ],
   "source": [
    "imageByteSize(img)"
   ]
  },
  {
   "cell_type": "code",
   "execution_count": 131,
   "metadata": {},
   "outputs": [
    {
     "data": {
      "text/plain": [
       "511.5595703125"
      ]
     },
     "execution_count": 131,
     "metadata": {},
     "output_type": "execute_result"
    }
   ],
   "source": [
    "imageByteSize(image_comp)"
   ]
  },
  {
   "cell_type": "code",
   "execution_count": 99,
   "metadata": {},
   "outputs": [],
   "source": [
    "from matplotlib.pyplot import imsave"
   ]
  },
  {
   "cell_type": "code",
   "execution_count": 125,
   "metadata": {},
   "outputs": [],
   "source": [
    "#saving compressed image\n",
    "saving = image_comp/255\n",
    "imsave(os.path.join(out,'result.jpeg'),saving)"
   ]
  },
  {
   "cell_type": "code",
   "execution_count": null,
   "metadata": {},
   "outputs": [],
   "source": []
  }
 ],
 "metadata": {
  "kernelspec": {
   "display_name": "Python 3",
   "language": "python",
   "name": "python3"
  },
  "language_info": {
   "codemirror_mode": {
    "name": "ipython",
    "version": 3
   },
   "file_extension": ".py",
   "mimetype": "text/x-python",
   "name": "python",
   "nbconvert_exporter": "python",
   "pygments_lexer": "ipython3",
   "version": "3.8.3"
  }
 },
 "nbformat": 4,
 "nbformat_minor": 4
}
